{
 "metadata": {
  "language_info": {
   "codemirror_mode": {
    "name": "ipython",
    "version": 3
   },
   "file_extension": ".py",
   "mimetype": "text/x-python",
   "name": "python",
   "nbconvert_exporter": "python",
   "pygments_lexer": "ipython3",
   "version": "3.8.3-final"
  },
  "orig_nbformat": 2,
  "kernelspec": {
   "name": "python_defaultSpec_1598600905194",
   "display_name": "Python 3.8.3 64-bit"
  }
 },
 "nbformat": 4,
 "nbformat_minor": 2,
 "cells": [
  {
   "cell_type": "code",
   "execution_count": 2,
   "metadata": {
    "tags": []
   },
   "outputs": [
    {
     "output_type": "stream",
     "name": "stdout",
     "text": "Financial Analysis\n----------------------------\nTotal Months: 86\nTotal: $38382578\nAverage  Change: $446309\nGreatest Increase in Profits: Feb-2012 $1170593\nGreatest Decrease in Profits: Sep-2013 $-1196225\n\n"
    }
   ],
   "source": [
    "import os\n",
    "import csv\n",
    "filepath = os.path.join(\"Resources\", \"budget_data.csv\")\n",
    "total_months = 0\n",
    "gross_profit = 0\n",
    "avg_chg = 0\n",
    "greatest_increase_month = \"\"\n",
    "greatest_increase = 0\n",
    "greatest_decrease_month = \"\"\n",
    "greatest_decrease = 0\n",
    "\n",
    "with open(filepath, newline=\"\") as csv_file:\n",
    "    csvreader = csv.reader(csv_file, delimiter=\",\")\n",
    "\n",
    "    csv_header = next(csvreader)\n",
    "\n",
    "    for row in csvreader:\n",
    "        total_months += 1\n",
    "        gross_profit += int(row[1])\n",
    "        if int(row[1]) > int(greatest_increase):\n",
    "            greatest_increase = row[1]\n",
    "            greatest_increase_month = row[0]\n",
    "        elif int(row[1]) < int(greatest_decrease):\n",
    "            greatest_decrease = row[1]\n",
    "            greatest_decrease_month = row[0]\n",
    "\n",
    "    avg_chg = round(gross_profit / total_months, 2)\n",
    "\n",
    "print(\n",
    "    f\"Financial Analysis\\n\"\n",
    "    f\"----------------------------\\n\"\n",
    "    f\"Total Months: {total_months}\\n\"\n",
    "    f\"Total: ${gross_profit}\\n\"\n",
    "    f\"Average  Change: ${avg_chg}\\n\"\n",
    "    f\"Greatest Increase in Profits: {greatest_increase_month} ${greatest_increase}\\n\"\n",
    "    f\"Greatest Decrease in Profits: {greatest_decrease_month} ${greatest_decrease}\\n\"\n",
    ")"
   ]
  },
  {
   "cell_type": "code",
   "execution_count": null,
   "metadata": {},
   "outputs": [],
   "source": []
  }
 ]
}