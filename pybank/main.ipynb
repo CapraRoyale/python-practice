{
 "metadata": {
  "language_info": {
   "codemirror_mode": {
    "name": "ipython",
    "version": 3
   },
   "file_extension": ".py",
   "mimetype": "text/x-python",
   "name": "python",
   "nbconvert_exporter": "python",
   "pygments_lexer": "ipython3",
   "version": "3.8.3-final"
  },
  "orig_nbformat": 2,
  "kernelspec": {
   "name": "python_defaultSpec_1598220559657",
   "display_name": "Python 3.8.3 64-bit"
  }
 },
 "nbformat": 4,
 "nbformat_minor": 2,
 "cells": [
  {
   "cell_type": "code",
   "execution_count": null,
   "metadata": {},
   "outputs": [],
   "source": [
    "# TODO: Read dataset  /Resources/budget_data.csv\n",
    "# TODO: Analyze Date and Profit/Losses\n",
    "# TODO: Calculate Net Total over entire record period\n",
    "# TODO: Calculate the *average* of the changes in profit & losses\n",
    "# TODO: Determine the greatest *increase* in profits over the entire period\n",
    "# TODO: Determine the greate *decrease* in losses over the entire period"
   ]
  }
 ]
}