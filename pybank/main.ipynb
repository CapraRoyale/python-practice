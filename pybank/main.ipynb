{
 "metadata": {
  "language_info": {
   "codemirror_mode": {
    "name": "ipython",
    "version": 3
   },
   "file_extension": ".py",
   "mimetype": "text/x-python",
   "name": "python",
   "nbconvert_exporter": "python",
   "pygments_lexer": "ipython3",
   "version": "3.8.3-final"
  },
  "orig_nbformat": 2,
  "kernelspec": {
   "name": "python_defaultSpec_1598600905194",
   "display_name": "Python 3.8.3 64-bit"
  }
 },
 "nbformat": 4,
 "nbformat_minor": 2,
 "cells": [
  {
   "cell_type": "code",
   "execution_count": 15,
   "metadata": {
    "tags": []
   },
   "outputs": [
    {
     "output_type": "stream",
     "name": "stdout",
     "text": "Financial Analysis\n----------------------------\nTotal Months: 86\nTotal: $38,382,578\nAverage  Change: (+/-) $446,309\nGreatest Increase in Profits: Feb-2012 $1,170,593\nGreatest Decrease in Profits: Sep-2013 $-1,196,225\n\n"
    }
   ],
   "source": [
    "# Import relevant libraries\n",
    "import os\n",
    "import csv\n",
    "\n",
    "# Abstract the filepath so the code will reliably run on different systems\n",
    "# by telling the os library to interpret the appropriate syntax for file path with the given variables\n",
    "filepath = os.path.join(\"Resources\", \"budget_data.csv\")\n",
    "\n",
    "# Define empty variables for future maths\n",
    "total_months = 0\n",
    "gross_profit = 0\n",
    "avg_chg = 0\n",
    "greatest_increase_month = \"\"\n",
    "greatest_increase = 0\n",
    "greatest_decrease_month = \"\"\n",
    "greatest_decrease = 0\n",
    "\n",
    "# \n",
    "with open(filepath, newline=\"\") as csv_file:\n",
    "    csvreader = csv.reader(csv_file, delimiter=\",\")\n",
    "\n",
    "    csv_header = next(csvreader)\n",
    "\n",
    "    for row in csvreader:\n",
    "        total_months += 1\n",
    "        gross_profit += int(row[1])\n",
    "        if int(row[1]) > int(greatest_increase):\n",
    "            greatest_increase = row[1]\n",
    "            greatest_increase_month = row[0]\n",
    "        elif int(row[1]) < int(greatest_decrease):\n",
    "            greatest_decrease = row[1]\n",
    "            greatest_decrease_month = row[0]\n",
    "\n",
    "    avg_chg = round(gross_profit / total_months, 2)\n",
    "\n",
    "def place_value(number): \n",
    "    return (\"{:,}\".format(int(number))) \n",
    "    \n",
    "print(\n",
    "    f\"Financial Analysis\\n\"\n",
    "    f\"----------------------------\\n\"\n",
    "    f\"Total Months: {total_months}\\n\"\n",
    "    f\"Total: ${place_value(gross_profit)}\\n\"\n",
    "    f\"Average  Change: (+/-) ${place_value(avg_chg)}\\n\"\n",
    "    f\"Greatest Increase in Profits: {greatest_increase_month} ${place_value(greatest_increase)}\\n\"\n",
    "    f\"Greatest Decrease in Profits: {greatest_decrease_month} ${place_value(greatest_decrease)}\\n\"\n",
    ")"
   ]
  },
  {
   "cell_type": "code",
   "execution_count": null,
   "metadata": {},
   "outputs": [],
   "source": []
  }
 ]
}